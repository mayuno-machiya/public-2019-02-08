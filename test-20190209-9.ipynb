{
  "nbformat": 4,
  "nbformat_minor": 0,
  "metadata": {
    "colab": {
      "name": "こんにちはColaboratory",
      "version": "0.3.2",
      "provenance": [],
      "collapsed_sections": [],
      "toc_visible": true,
      "include_colab_link": true
    },
    "kernelspec": {
      "display_name": "Python 3",
      "name": "python3"
    }
  },
  "cells": [
    {
      "cell_type": "markdown",
      "metadata": {
        "id": "view-in-github",
        "colab_type": "text"
      },
      "source": [
        "<a href=\"https://colab.research.google.com/github/mayuno-machiya/public-2019-02-08/blob/master/test-20190209-9.ipynb\" target=\"_parent\"><img src=\"https://colab.research.google.com/assets/colab-badge.svg\" alt=\"Open In Colab\"/></a>"
      ]
    },
    {
      "metadata": {
        "colab_type": "text",
        "id": "luKDxbnWyNGy"
      },
      "cell_type": "markdown",
      "source": [
        "<img height=\"60px\" src=\"/img/colab_favicon.ico\" align=\"left\" hspace=\"20px\" vspace=\"5px\">\n",
        "\n",
        "## Colaboratory へようこそ\n",
        "\n",
        "Colaboratory は、完全にクラウドで実行される Jupyter ノートブック環境です。設定不要で、無料でご利用になれます。詳細については、[よくある質問](https://research.google.com/colaboratory/faq.html)をご覧ください。"
      ]
    },
    {
      "metadata": {
        "colab_type": "text",
        "id": "ol93N5hsyNG0"
      },
      "cell_type": "markdown",
      "source": [
        "## はじめに\n",
        "- [Colaboratory の概要](/notebooks/basic_features_overview.ipynb)\n",
        "- [データの読み込みと保存: ローカル ファイル、Google ドライブ、Google スプレッドシート、Google Cloud Storage](/notebooks/io.ipynb)\n",
        "- [ライブラリのインポートと依存関係のインストール](/notebooks/snippets/importing_libraries.ipynb)\n",
        "- [Google Cloud BigQuery の使用](/notebooks/bigquery.ipynb)\n",
        "- [フォーム](/notebooks/forms.ipynb)、[グラフ](/notebooks/charts.ipynb)、[マークダウン](/notebooks/markdown_guide.ipynb)、[ウィジェット](/notebooks/widgets.ipynb)\n",
        "- [GPU を使用した TensorFlow](/notebooks/gpu.ipynb)\n",
        "- [Machine Learning Crash Course](https://developers.google.com/machine-learning/crash-course/): [Pandas の概要](/notebooks/mlcc/intro_to_pandas.ipynb)、[TensorFlow の最初のステップ](/notebooks/mlcc/first_steps_with_tensor_flow.ipynb)\n"
      ]
    },
    {
      "metadata": {
        "colab_type": "text",
        "id": "1fr51oVCHRZU"
      },
      "cell_type": "markdown",
      "source": [
        "## 主要な機能"
      ]
    },
    {
      "metadata": {
        "colab_type": "text",
        "id": "f4-4_atqyNG3"
      },
      "cell_type": "markdown",
      "source": [
        "### TensorFlow の実行"
      ]
    },
    {
      "metadata": {
        "colab_type": "text",
        "id": "xcIRzSExyNG5"
      },
      "cell_type": "markdown",
      "source": [
        "Colaboratory では、ワンクリックで TensorFlow のコードをブラウザ上で実行できます。以下の例は 2 つのマトリックスを追加します。\n",
        "\n",
        "$\\begin{bmatrix}\n",
        "  1. & 1. & 1. \\\\\n",
        "  1. & 1. & 1. \\\\\n",
        "\\end{bmatrix} +\n",
        "\\begin{bmatrix}\n",
        "  1. & 2. & 3. \\\\\n",
        "  4. & 5. & 6. \\\\\n",
        "\\end{bmatrix} =\n",
        "\\begin{bmatrix}\n",
        "  2. & 3. & 4. \\\\\n",
        "  5. & 6. & 7. \\\\\n",
        "\\end{bmatrix}$"
      ]
    },
    {
      "metadata": {
        "colab_type": "code",
        "id": "oYZkU7ZN3CL0",
        "outputId": "35c3431d-a185-416d-afce-d5677d14bbd1",
        "colab": {
          "base_uri": "https://localhost:8080/",
          "height": 51
        }
      },
      "cell_type": "code",
      "source": [
        "import tensorflow as tf\n",
        "\n",
        "input1 = tf.ones((2, 3))\n",
        "input2 = tf.reshape(tf.range(1, 7, dtype=tf.float32), (2, 3))\n",
        "output = input1 + input2\n",
        "\n",
        "with tf.Session():\n",
        "  result = output.eval()\n",
        "result  "
      ],
      "execution_count": 0,
      "outputs": [
        {
          "output_type": "execute_result",
          "data": {
            "text/plain": [
              "array([[2., 3., 4.],\n",
              "       [5., 6., 7.]], dtype=float32)"
            ]
          },
          "metadata": {
            "tags": []
          },
          "execution_count": 0
        }
      ]
    },
    {
      "metadata": {
        "colab_type": "text",
        "id": "nwYF0E3Sjiy4"
      },
      "cell_type": "markdown",
      "source": [
        "### GitHub\n",
        "\n",
        "[ファイル] > [GitHub にコピーを保存...] を使うと、Colaboratory ノートブックのコピーを GitHub に保存できます。\n",
        "\n",
        "GitHub 上の .ipynb は、該当のパスを colab.research.google.com/github/ に追加するだけで読み込みが可能です。たとえば、[colab.research.google.com/github/tensorflow/models/blob/master/samples/core/get_started/_index.ipynb](https://colab.research.google.com/github/tensorflow/models/blob/master/samples/core/get_started/_index.ipynb) の場合、GitHub 上の[こちらの .ipynb](https://github.com/tensorflow/models/blob/master/samples/core/get_started/_index.ipynb) が読み込まれます。\n",
        "\n"
      ]
    },
    {
      "metadata": {
        "colab_type": "text",
        "id": "RSFr8zKJyNG_"
      },
      "cell_type": "markdown",
      "source": [
        "### 視覚化"
      ]
    },
    {
      "metadata": {
        "colab_type": "text",
        "id": "Q4UKcbSDyNHA"
      },
      "cell_type": "markdown",
      "source": [
        "Colaboratory には [matplotlib](https://matplotlib.org/) などの広く使用されているライブラリが含まれており、視覚化を簡単に行えます。"
      ]
    },
    {
      "metadata": {
        "colab_type": "code",
        "id": "YX9n2CR7yNHA",
        "outputId": "152cb50c-ac9f-4bf4-e537-546f71199623",
        "colab": {
          "base_uri": "https://localhost:8080/",
          "height": 347
        }
      },
      "cell_type": "code",
      "source": [
        "import matplotlib.pyplot as plt\n",
        "import numpy as np\n",
        "\n",
        "x = np.arange(20)\n",
        "y = [x_i + np.random.randn(1) for x_i in x]\n",
        "a, b = np.polyfit(x, y, 1)\n",
        "_ = plt.plot(x, y, 'o', np.arange(20), a*np.arange(20)+b, '-')"
      ],
      "execution_count": 0,
      "outputs": [
        {
          "output_type": "display_data",
          "data": {
            "image/png": "[encoded data removed]",
            "text/plain": [
              "<matplotlib.figure.Figure at 0x7fe81e727e10>"
            ]
          },
          "metadata": {
            "tags": []
          }
        }
      ]
    },
    {
      "metadata": {
        "colab_type": "text",
        "id": "G53a-jziyNHE"
      },
      "cell_type": "markdown",
      "source": [
        "新しいライブラリを使用するには、`pip install` でノートブックの最上部にインストールすると、そのライブラリをノートブック内のどこでも使用できるようになります。一般的に使用されているライブラリをインポートする方法については、[ライブラリのインポートのサンプル ノートブック](/notebooks/snippets/importing_libraries.ipynb)をご覧ください。"
      ]
    },
    {
      "metadata": {
        "colab_type": "code",
        "id": "Ls8x10CoyNHF",
        "outputId": "6a8a4324-2ce7-4f99-d765-c172e0408d8c",
        "colab": {
          "base_uri": "https://localhost:8080/",
          "height": 330
        }
      },
      "cell_type": "code",
      "source": [
        "!pip install -q matplotlib-venn\n",
        "\n",
        "from matplotlib_venn import venn2\n",
        "_ = venn2(subsets = (3, 2, 1))"
      ],
      "execution_count": 0,
      "outputs": [
        {
          "output_type": "display_data",
          "data": {
            "image/png": "[encoded data removed]",
            "text/plain": [
              "<matplotlib.figure.Figure at 0x7fe80d84e898>"
            ]
          },
          "metadata": {
            "tags": []
          }
        }
      ]
    },
    {
      "metadata": {
        "colab_type": "text",
        "id": "U8eu7lSAyNHM"
      },
      "cell_type": "markdown",
      "source": [
        "### ローカル ランタイムのサポート\n",
        "\n",
        "Colaboratory では、ローカルマシン上の Jupyter ランタイムへの接続をサポートしています。詳しくは、Google Colaboratory の[ドキュメント](https://research.google.com/colaboratory/local-runtimes.html)をご覧ください。"
      ]
    },
    {
      "metadata": {
        "id": "O2L4van38fEW",
        "colab_type": "code",
        "colab": {
          "base_uri": "https://localhost:8080/",
          "height": 2206
        },
        "outputId": "cbed52e4-b504-4359-f1d6-f5ae647b522b"
      },
      "cell_type": "code",
      "source": [
        "import numpy as np\n",
        "import matplotlib.pyplot as plt\n",
        "\n",
        "divide = 2 #状態量の数\n",
        "R = np.zeros((divide,divide))    #相関行列\n",
        "invR = np.zeros((divide,divide)) #相関行列の逆行列\n",
        "avg = np.zeros(divide)           #平均値\n",
        "std = np.zeros(divide)           #標準偏差\n",
        "make = 0\n",
        "\n",
        "p = 0.95        #マハラノビス距離p=0.95で2σ\n",
        "md_sikii = 2.448#MDの閾値95%で2.448\n",
        "div = 50        #Mt楕円の分割数\n",
        "\n",
        "def maha(x):\n",
        "    global make, R, invR, avg, std\n",
        "\n",
        "    N, _ = x.shape #Nはデータ数\n",
        "    xx = np.copy(x)\n",
        "    xx = np.array(xx,dtype=\"float32\")\n",
        "    x_return = []\n",
        "\n",
        "    #各状態量から平均値を引く\n",
        "    for i in range(divide):\n",
        "        if make == 0:\n",
        "            avg[i] = np.mean(x[:,i])\n",
        "        for j in range(N):\n",
        "            xx[j,i] = xx[j,i] - avg[i]\n",
        "\n",
        "    #各状態量を標準偏差で割る\n",
        "    for i in range(divide):\n",
        "        if make == 0:\n",
        "            std[i] = np.std(x[:,i])\n",
        "        for j in range(N):\n",
        "            xx[j,i] = xx[j,i] / std[i]\n",
        "\n",
        "    #make=0のときだけ計算\n",
        "    if make == 0:\n",
        "        R = np.corrcoef(xx.transpose())\n",
        "        invR = np.linalg.inv(R)\n",
        "        make = 1\n",
        "\n",
        "    #MD^2の計算\n",
        "    for i in range(N):\n",
        "        d0 = xx[i,:]\n",
        "        d1 = np.dot(d0,invR)\n",
        "        d2 = np.dot(d1,d0)/divide\n",
        "        x_return.append(d2)\n",
        "\n",
        "    return x_return\n",
        "\n",
        "if __name__ == '__main__':\n",
        "\n",
        "    curve_c = np.zeros((2,div+1))\n",
        "    \n",
        "    #正常データの作成\n",
        "    x1 = np.random.normal(1, 0.3, (1, 50))\n",
        "    y1 = np.random.normal(1, 0.3, (1, 50))\n",
        "    x2 = np.random.normal(1.5, 0.3, (1, 50))\n",
        "    y2 = np.random.normal(1.5, 0.3, (1, 50))\n",
        "\n",
        "    #テストデータの作成\n",
        "    test1 = np.array([1.02,1.5])\n",
        "    test1 = test1.reshape((1,2))\n",
        "    test2 = np.array([0.5,2])\n",
        "    test2 = test2.reshape((1,2))\n",
        "\n",
        "    #正常データの形を整える\n",
        "    data = []\n",
        "    data.append(x1)\n",
        "    data.append(x2)\n",
        "    data.append(y1)\n",
        "    data.append(y2)\n",
        "    data = np.array(data)\n",
        "    data = data.reshape(2,100)\n",
        "    data = data.transpose()\n",
        "    print(data.shape)\n",
        "\n",
        "    #単位空間の作成\n",
        "    print(\"data=\",data)\n",
        "    _ = maha(data)\n",
        "\n",
        "    #テストデータのマハラノビス距離\n",
        "    md_1 = maha(test1)\n",
        "    print(\"md_1=\",md_1)\n",
        "    print(\"test1=\",test1)\n",
        "    md_2 = maha(test2)\n",
        "    print(\"md_2=\",md_2)\n",
        "    print(\"test2=\",test2)\n",
        "\n",
        "    #楕円のデータ　相関係数\n",
        "    low = np.corrcoef(data[:,0],data[:,1])[0,1]\n",
        "\n",
        "    for i in range(div+1):\n",
        "        r = (-2*(1-low**2)*np.log(1-p)/(1-2*low*np.sin(i*2*np.pi/div)*np.cos(i*2*np.pi/div)))**0.5\n",
        "        curve_c[0,i] = avg[0] + std[0]*r*np.cos(i*2*np.pi/div)\n",
        "        curve_c[1,i] = avg[1] + std[1]*r*np.sin(i*2*np.pi/div)\n",
        "\n",
        "    #可視化\n",
        "    plt.figure()\n",
        "\n",
        "    plt.subplot(1,2,1)\n",
        "    plt.scatter(x1, y1, c=\"green\", s=50)\n",
        "    plt.scatter(x2, y2, c=\"green\", s=50)\n",
        "    plt.scatter(test1[:,0],test1[:,1],c=\"m\", s=50)\n",
        "    plt.scatter(test2[:,0],test2[:,1],c=\"red\", s=50)\n",
        "    plt.xlabel(\"T\")\n",
        "    plt.ylabel(\"KN\")\n",
        "\n",
        "    plt.plot(curve_c[0],curve_c[1],c=\"c\",label=\"MD^2=2.448\")\n",
        "    plt.legend()\n",
        "\n",
        "    plt.subplot(1,2,2)\n",
        "    plt.bar([1,2], [md_1[0], md_2[0]], align=\"center\")\n",
        "    plt.grid(True)\n",
        "    plt.xticks([1,2], [\"Purple\", \"Red\"])\n",
        "    plt.ylabel(\"MD^2\")\n",
        "    plt.grid(True)\n",
        "\n",
        "    plt.show()"
      ],
      "execution_count": 85,
      "outputs": [
        {
          "output_type": "stream",
          "text": [
            "(100, 2)\n",
            "data= [[0.77714727 1.1866298 ]\n",
            " [0.68833808 0.97139142]\n",
            " [1.08161034 0.61699767]\n",
            " [0.94610664 1.58498354]\n",
            " [0.60557339 0.52992304]\n",
            " [1.41496714 0.58352069]\n",
            " [0.72842971 0.65768332]\n",
            " [0.8461106  1.12742758]\n",
            " [1.62931217 1.2229882 ]\n",
            " [1.00333292 0.23941598]\n",
            " [1.39835453 0.94751391]\n",
            " [0.58379019 0.76526127]\n",
            " [0.8909589  0.78351921]\n",
            " [1.37971605 1.10159123]\n",
            " [1.39284685 0.89679791]\n",
            " [0.60972591 0.74647601]\n",
            " [0.87812993 0.80605939]\n",
            " [1.06894244 1.08565857]\n",
            " [0.76934414 1.28164132]\n",
            " [0.89036673 0.99836538]\n",
            " [1.35557374 0.69194245]\n",
            " [1.07660407 1.30101553]\n",
            " [1.31350817 0.5892066 ]\n",
            " [0.96829222 1.35943454]\n",
            " [0.99529517 0.78452772]\n",
            " [0.69648371 0.88228129]\n",
            " [0.96443662 0.44924047]\n",
            " [1.55679861 0.75889508]\n",
            " [1.06368549 1.37287158]\n",
            " [1.05381316 1.13989816]\n",
            " [0.96296419 1.14783746]\n",
            " [0.64307271 0.57181515]\n",
            " [0.77849509 1.06010836]\n",
            " [1.07982523 1.30169795]\n",
            " [1.32679137 1.09135677]\n",
            " [1.52951332 1.09354324]\n",
            " [1.14204981 0.77585907]\n",
            " [1.00045403 1.09754456]\n",
            " [0.61783569 0.36162428]\n",
            " [0.51960221 1.1944038 ]\n",
            " [0.61400636 0.74834673]\n",
            " [1.19836366 1.00605877]\n",
            " [1.37824341 0.99422656]\n",
            " [1.40525931 1.10755377]\n",
            " [1.22131045 0.96567291]\n",
            " [0.95057717 1.10947002]\n",
            " [0.82283332 1.27753497]\n",
            " [1.25410615 1.34894444]\n",
            " [0.9421282  0.37794781]\n",
            " [0.84503435 0.65062663]\n",
            " [1.38257567 1.47942113]\n",
            " [1.63321615 1.85437702]\n",
            " [1.94816469 1.31460273]\n",
            " [1.71143335 1.52609675]\n",
            " [1.44703465 2.18603417]\n",
            " [1.07661803 1.49010987]\n",
            " [0.89380114 1.32981914]\n",
            " [1.56617714 1.43946107]\n",
            " [1.64359195 1.50584457]\n",
            " [1.68824787 1.42170352]\n",
            " [0.82956433 1.52575887]\n",
            " [1.50643185 1.81347764]\n",
            " [0.94321249 1.20198235]\n",
            " [1.524365   1.46875986]\n",
            " [0.82938516 1.7028405 ]\n",
            " [1.74217623 1.43773419]\n",
            " [1.33929481 0.85390473]\n",
            " [1.50657535 1.23704553]\n",
            " [1.56010452 1.39476223]\n",
            " [2.03564754 1.51562489]\n",
            " [1.35635281 1.32240156]\n",
            " [1.45120453 1.47580527]\n",
            " [0.78191572 1.9050374 ]\n",
            " [1.61823883 1.54786723]\n",
            " [1.90797939 1.50795231]\n",
            " [1.45341245 1.34973669]\n",
            " [1.34475392 1.17391618]\n",
            " [1.77129883 1.81993585]\n",
            " [1.72806478 1.38342899]\n",
            " [1.59177366 1.20799599]\n",
            " [1.78060394 1.89819844]\n",
            " [1.13707017 1.54387264]\n",
            " [1.92318022 1.25412164]\n",
            " [1.25952846 1.86827639]\n",
            " [1.16847427 1.49606061]\n",
            " [1.3531307  1.61444058]\n",
            " [1.64849152 1.62074298]\n",
            " [1.17954805 1.63724192]\n",
            " [0.94640438 1.93756102]\n",
            " [2.03485891 1.20833954]\n",
            " [1.89614192 1.75182525]\n",
            " [0.98258056 1.39061507]\n",
            " [1.53070068 1.54045621]\n",
            " [0.80386741 1.19785946]\n",
            " [1.3174217  1.90622443]\n",
            " [1.16602439 2.28665531]\n",
            " [1.28127344 1.13610857]\n",
            " [1.22754345 1.60646296]\n",
            " [1.38339166 1.82143503]\n",
            " [1.40740178 1.29059373]]\n",
            "md_1= [0.6038973564166636]\n",
            "test1= [[1.02 1.5 ]]\n",
            "md_2= [6.128869299786818]\n",
            "test2= [[0.5 2. ]]\n"
          ],
          "name": "stdout"
        },
        {
          "output_type": "display_data",
          "data": {
            "image/png": "[encoded data removed]",
            "text/plain": [
              "<Figure size 576x396 with 2 Axes>"
            ]
          },
          "metadata": {
            "tags": []
          }
        }
      ]
    },
    {
      "metadata": {
        "id": "QaXCAKD5-NeU",
        "colab_type": "code",
        "colab": {}
      },
      "cell_type": "code",
      "source": [
        ""
      ],
      "execution_count": 0,
      "outputs": []
    }
  ]
}